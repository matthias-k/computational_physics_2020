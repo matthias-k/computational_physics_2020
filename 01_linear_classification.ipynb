{
  "nbformat": 4,
  "nbformat_minor": 0,
  "metadata": {
    "colab": {
      "name": "01_linear_classification.ipynb",
      "provenance": [],
      "collapsed_sections": [],
      "authorship_tag": "ABX9TyPjzoXu8jwWXu/9BkU1k7Ae",
      "include_colab_link": true
    },
    "kernelspec": {
      "name": "python3",
      "display_name": "Python 3"
    }
  },
  "cells": [
    {
      "cell_type": "markdown",
      "metadata": {
        "id": "view-in-github",
        "colab_type": "text"
      },
      "source": [
        "<a href=\"https://colab.research.google.com/github/wielandbrendel/computational_physics_2020/blob/master/01_linear_classification.ipynb\" target=\"_parent\"><img src=\"https://colab.research.google.com/assets/colab-badge.svg\" alt=\"Open In Colab\"/></a>"
      ]
    },
    {
      "cell_type": "code",
      "metadata": {
        "id": "bX00wg_24_MX",
        "colab_type": "code",
        "colab": {}
      },
      "source": [
        "import numpy as np\n",
        "from sklearn import datasets"
      ],
      "execution_count": 0,
      "outputs": []
    },
    {
      "cell_type": "code",
      "metadata": {
        "id": "-rR6vwnl9juJ",
        "colab_type": "code",
        "colab": {}
      },
      "source": [
        "# we are going to classify a popular breast cancer dataset\n",
        "data, target = datasets.load_breast_cancer(return_X_y=True)"
      ],
      "execution_count": 0,
      "outputs": []
    },
    {
      "cell_type": "code",
      "metadata": {
        "id": "-QQxbG2W9vbm",
        "colab_type": "code",
        "colab": {
          "base_uri": "https://localhost:8080/",
          "height": 34
        },
        "outputId": "78151e6b-9b7e-4923-f3ee-6e0feb352f55"
      },
      "source": [
        "# data is a matrix of shape (569, 30)\n",
        "# the first number refers to the number of cases or samples while the second\n",
        "# number refers to the number of features from which we try to predict\n",
        "# breast cancer\n",
        "# \n",
        "# please see the documentation @ https://archive.ics.uci.edu/ml/datasets/Breast+Cancer+Wisconsin+(Diagnostic)\n",
        "# for more details\n",
        "data.shape"
      ],
      "execution_count": 7,
      "outputs": [
        {
          "output_type": "execute_result",
          "data": {
            "text/plain": [
              "(569, 30)"
            ]
          },
          "metadata": {
            "tags": []
          },
          "execution_count": 7
        }
      ]
    },
    {
      "cell_type": "code",
      "metadata": {
        "id": "kzA2fNFO9wOU",
        "colab_type": "code",
        "colab": {
          "base_uri": "https://localhost:8080/",
          "height": 34
        },
        "outputId": "d0f5fffe-6cd5-46ef-ebb4-27141bd6cfea"
      },
      "source": [
        "# target is a binary vector of size (569,) in which each entry is the label of\n",
        "# each case, either malignant (0) or benign (1).\n",
        "target[:20]"
      ],
      "execution_count": 10,
      "outputs": [
        {
          "output_type": "execute_result",
          "data": {
            "text/plain": [
              "array([0, 0, 0, 0, 0, 0, 0, 0, 0, 0, 0, 0, 0, 0, 0, 0, 0, 0, 0, 1])"
            ]
          },
          "metadata": {
            "tags": []
          },
          "execution_count": 10
        }
      ]
    },
    {
      "cell_type": "code",
      "metadata": {
        "id": "IgxzrysCAcJ6",
        "colab_type": "code",
        "colab": {}
      },
      "source": [
        "# for simplicity we cut the number of features from 30 to just two features\n",
        "data = data[:, :2]"
      ],
      "execution_count": 0,
      "outputs": []
    },
    {
      "cell_type": "code",
      "metadata": {
        "id": "Y-pv9VrSAm1m",
        "colab_type": "code",
        "colab": {}
      },
      "source": [
        "# Excercise 1.1\n",
        "# Try to find a linear classifier by hand that can classify the dataset \n",
        "# as good as possible. Let the classification rule be w1 * f1 + w2 * f2 + w3 > 0\n",
        "# where w1, w2 and w3 are the weights to be learnt and f1, f2 are the features.\n",
        "# What accuracy can you reach?\n",
        "\n",
        "# Excercise 1.2\n",
        "# Learn the optimal parameters automatically using gradient descent. For the\n",
        "# loss function use a simple squared loss (t - tp)**2 where t is the target\n",
        "# label (either 0 or 1) and tp = w1 * f1 + w2 * f2 + w3 is the predicted label.\n",
        "# What accuracy can you reach? Why is this loss function problematic? Is there\n",
        "# a better alternative?"
      ],
      "execution_count": 0,
      "outputs": []
    }
  ]
}